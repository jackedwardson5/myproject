{
 "cells": [
  {
   "cell_type": "code",
   "execution_count": null,
   "metadata": {},
   "outputs": [],
   "source": [
    "5000/60"
   ]
  },
  {
   "cell_type": "markdown",
   "metadata": {},
   "source": [
    "## Simple calculator"
   ]
  },
  {
   "cell_type": "code",
   "execution_count": null,
   "metadata": {},
   "outputs": [],
   "source": [
    "times_in_seconds=400\n",
    "minutes=times_in_seconds/60\n",
    "seconds=times_in_seconds%60\n",
    "print(minutes)\n",
    "print(seconds)"
   ]
  },
  {
   "cell_type": "code",
   "execution_count": null,
   "metadata": {},
   "outputs": [],
   "source": [
    "times_in_seconds=400\n",
    "minutes=times_in_seconds//60\n",
    "seconds=times_in_seconds%60\n",
    "print(minutes)\n",
    "print(seconds)"
   ]
  },
  {
   "cell_type": "code",
   "execution_count": null,
   "metadata": {},
   "outputs": [],
   "source": [
    "times_in_seconds=5000pp\n",
    "minutes=times_in_seconds/"
   ]
  },
  {
   "cell_type": "code",
   "execution_count": null,
   "metadata": {},
   "outputs": [],
   "source": [
    "times_in_seconds=400\n",
    "minutes=times_in_seconds//60\n",
    "seconds=times_in_seconds%60\n",
    "print(minutes)\n",
    "print(seconds)"
   ]
  },
  {
   "cell_type": "code",
   "execution_count": null,
   "metadata": {},
   "outputs": [],
   "source": [
    "user=float(input(\"Enter Number \"))\n",
    "times_in_seconds=user\n",
    "minutes=times_in_seconds//60\n",
    "seconds=times_in_seconds%60\n",
    "print(minutes)\n",
    "print(seconds)"
   ]
  },
  {
   "cell_type": "code",
   "execution_count": null,
   "metadata": {},
   "outputs": [],
   "source": [
    "x=20\n",
    "y=10\n",
    "y=x # y=20\n",
    "x=x+2 # x=22\n",
    "y=y+2 # y=22\n",
    "z=x+y # z=22+22=44\n",
    "print(z+2) # print 46"
   ]
  },
  {
   "cell_type": "markdown",
   "metadata": {},
   "source": [
    "## simple data types"
   ]
  },
  {
   "cell_type": "code",
   "execution_count": null,
   "metadata": {},
   "outputs": [],
   "source": [
    "# integer\n",
    "x=12\n",
    "# float\n",
    "y=3.142\n",
    "# complex\n",
    "c=3+2j\n",
    "# boolean\n",
    "b1=True\n",
    "b2=False"
   ]
  },
  {
   "cell_type": "code",
   "execution_count": null,
   "metadata": {},
   "outputs": [],
   "source": [
    "print(type(y))\n",
    "print(type(x))\n",
    "print(type(c))\n",
    "print(type(b1))\n",
    "print(type(b2))"
   ]
  },
  {
   "cell_type": "markdown",
   "metadata": {},
   "source": [
    "## mean, variance and mean deviation of a four number"
   ]
  },
  {
   "cell_type": "code",
   "execution_count": null,
   "metadata": {},
   "outputs": [],
   "source": [
    "user=float(input(\"Enter 4 numbers\"))\n",
    "numbers=a,b,c,d\n",
    "mean=(numbers)/4\n",
    "variance=((a-mean)**2+(b-mean)**2+(c-mean)**2+(d-mean)**2)/4\n",
    "std=variance**0.5\n",
    "print(mean)\n",
    "print(variance)\n",
    "print(round(std,4))\n",
    "mean_deviation=(abs(a-mean)+abs(b-mean)+abs(c-mean)+abs(d-mean))/4\n",
    "print(mean_deviation)"
   ]
  },
  {
   "cell_type": "code",
   "execution_count": null,
   "metadata": {},
   "outputs": [],
   "source": [
    "a,b,c,d=2,3,5,7\n",
    "mean=a+b+c+d/4\n",
    "print(mean)"
   ]
  },
  {
   "cell_type": "code",
   "execution_count": null,
   "metadata": {},
   "outputs": [],
   "source": [
    "a,b,c,d=2,3,5,7\n",
    "mean=(a+b+c+d)/4\n",
    "variance=((a-mean)**2+(b-mean)**2+(c-mean)**2+(d-mean)**2)/4\n",
    "std=variance**0.5\n",
    "print(mean)\n",
    "print(variance)\n",
    "print(round(std,4))\n",
    "mean_deviation=(abs(a-mean)+abs(b-mean)+abs(c-mean)+abs(d-mean))/4\n",
    "print(mean_deviation)"
   ]
  },
  {
   "cell_type": "code",
   "execution_count": null,
   "metadata": {},
   "outputs": [],
   "source": [
    "## Explanation of in built function\n",
    "\n",
    "print(round(3.12456))\n",
    "print(round(3.6512))\n"
   ]
  },
  {
   "cell_type": "code",
   "execution_count": null,
   "metadata": {},
   "outputs": [],
   "source": [
    "abs(3)"
   ]
  },
  {
   "cell_type": "code",
   "execution_count": null,
   "metadata": {},
   "outputs": [],
   "source": [
    "mean_deviation=(abs(a-mean)+abs(b-mean)+abs(c-mean)+abs(d-mean))/4\n",
    "print(mean_deviation)"
   ]
  },
  {
   "cell_type": "markdown",
   "metadata": {},
   "source": [
    "## input funtion"
   ]
  },
  {
   "cell_type": "code",
   "execution_count": null,
   "metadata": {},
   "outputs": [],
   "source": [
    "x=input()\n",
    "y=input()\n",
    "z=x+y\n",
    "print(z)"
   ]
  },
  {
   "cell_type": "code",
   "execution_count": null,
   "metadata": {},
   "outputs": [],
   "source": [
    "type(x)"
   ]
  },
  {
   "cell_type": "code",
   "execution_count": null,
   "metadata": {},
   "outputs": [],
   "source": [
    "x=int(input())\n",
    "y=int(input())\n",
    "z=x+y\n",
    "print(z)"
   ]
  },
  {
   "cell_type": "code",
   "execution_count": null,
   "metadata": {},
   "outputs": [],
   "source": [
    "x=float(input())\n",
    "y=float(input())\n",
    "z=x+y\n",
    "print(round(z,2))"
   ]
  },
  {
   "cell_type": "code",
   "execution_count": 1,
   "metadata": {},
   "outputs": [
    {
     "name": "stdout",
     "output_type": "stream",
     "text": [
      "3\n",
      "5\n",
      "6\n",
      "7\n",
      "5.25\n",
      "2.1875\n",
      "1.479\n",
      "1.25\n"
     ]
    }
   ],
   "source": [
    "a=float(input())\n",
    "b=float(input())\n",
    "c=float(input())\n",
    "d=float(input())\n",
    "mean=(a+b+c+d)/4\n",
    "variance=((a-mean)**2+(b-mean)**2+(c-mean)**2+(d-mean)**2)/4\n",
    "std=variance**0.5\n",
    "print(mean)\n",
    "print(variance)\n",
    "print(round(std,4))\n",
    "mean_deviation=(abs(a-mean)+abs(b-mean)+abs(c-mean)+abs(d-mean))/4\n",
    "print(mean_deviation)"
   ]
  },
  {
   "cell_type": "code",
   "execution_count": null,
   "metadata": {},
   "outputs": [],
   "source": [
    "mean=(a+b+c+d)/4\n",
    "variance=((a-mean)**2+(b-mean)**2+(c-mean)**2+(d-mean)**2)/4\n",
    "std=variance**0.5\n",
    "print(mean)\n",
    "print(variance)\n",
    "print(round(std,4))\n",
    "mean_deviation=(abs(a-mean)+abs(b-mean)+abs(c-mean)+abs(d-mean))/4\n",
    "print(mean_deviation)"
   ]
  },
  {
   "cell_type": "raw",
   "metadata": {},
   "source": [
    "a=float(input(\"Enter the first value:\"))\n",
    "b=float(input(\"Enter the second value:\"))\n",
    "c=float(input(\"Enter the third value:\"))\n",
    "d=float(input(\"Enter the fourth value:\"))\n",
    "mean=(a+b+c+d)/4\n",
    "variance=((a-mean)**2+(b-mean)**2+(c-mean)**2+(d-mean)**2)/4\n",
    "std=variance**0.5\n",
    "print(mean)\n",
    "print(variance)\n",
    "print(round(std,4))\n",
    "mean_deviation=(abs(a-mean)+abs(b-mean)+abs(c-mean)+abs(d-mean))/4\n",
    "print(mean_deviation)"
   ]
  },
  {
   "cell_type": "code",
   "execution_count": null,
   "metadata": {},
   "outputs": [],
   "source": []
  },
  {
   "cell_type": "code",
   "execution_count": null,
   "metadata": {},
   "outputs": [],
   "source": [
    "a=float(input(\"Enter the first value:\"))\n",
    "b=float(input(\"Enter the second value:\"))\n",
    "c=float(input(\"Enter the third value:\"))\n",
    "d=float(input(\"Enter the fourth value:\"))\n",
    "mean=(a+b+c+d)/4\n",
    "variance=((a-mean)**2+(b-mean)**2+(c-mean)**2+(d-mean)**2)/4\n",
    "std=variance**0.5\n",
    "print(\"The mean is\", mean)\n",
    "print(\"The variance is \"+str(variance))\n",
    "print(f\"The standard deviation is {std}\")\n",
    "mean_deviation=(abs(a-mean)+abs(b-mean)+abs(c-mean)+abs(d-mean))/4\n",
    "print(mean_deviation)"
   ]
  },
  {
   "cell_type": "code",
   "execution_count": null,
   "metadata": {},
   "outputs": [],
   "source": [
    "\"555\"=3"
   ]
  },
  {
   "cell_type": "code",
   "execution_count": null,
   "metadata": {},
   "outputs": [],
   "source": [
    "\"555\"+str(3)"
   ]
  },
  {
   "cell_type": "markdown",
   "metadata": {},
   "source": [
    "## Discriminant of a quadratic equation"
   ]
  },
  {
   "cell_type": "markdown",
   "metadata": {},
   "source": [
    "$ d=b^2-4ac $"
   ]
  },
  {
   "cell_type": "code",
   "execution_count": null,
   "metadata": {},
   "outputs": [],
   "source": [
    "a=float(input(\"Enter the value of a:\"))\n",
    "b=float(input(\"Enter the value of b:\"))\n",
    "c=float(input(\"Enter the value of c:\"))\n",
    "d=b**2-4*a*c\n",
    "print(f\"the discriminant is {d}\")"
   ]
  },
  {
   "cell_type": "markdown",
   "metadata": {},
   "source": [
    "## AREA OF A CIRCLE"
   ]
  },
  {
   "cell_type": "markdown",
   "metadata": {},
   "source": [
    "$ A=pie r^2 $"
   ]
  },
  {
   "cell_type": "code",
   "execution_count": null,
   "metadata": {},
   "outputs": [],
   "source": [
    "pie=3.142\n",
    "print(pie)\n",
    "r=float(input(\"Enter the value for r:\"))\n",
    "A=pie*r**2\n",
    "print(f\"the discriminant is {A}\")"
   ]
  },
  {
   "cell_type": "markdown",
   "metadata": {},
   "source": [
    "## Perimeter of a Triangle"
   ]
  },
  {
   "cell_type": "markdown",
   "metadata": {},
   "source": [
    "$ P=a+b+c $"
   ]
  },
  {
   "cell_type": "code",
   "execution_count": null,
   "metadata": {},
   "outputs": [],
   "source": [
    "a=int(input(\"Enter the value of a:\"))\n",
    "b=int(input(\"Enter the value of b:\"))\n",
    "c=int(input(\"Enter the value of c:\"))\n",
    "P=a+b+c\n",
    "print(f\"the discriminant is {P}\")"
   ]
  },
  {
   "cell_type": "markdown",
   "metadata": {},
   "source": [
    "## Pyramid display"
   ]
  },
  {
   "cell_type": "code",
   "execution_count": null,
   "metadata": {},
   "outputs": [],
   "source": [
    "print(\"                    *\")\n",
    "print(\"                 *      *\")\n",
    "print(\"               *           *\")\n",
    "print(\"             *               *\")\n",
    "print(\"            *  *  *  *  *  *  * \")"
   ]
  },
  {
   "cell_type": "markdown",
   "metadata": {},
   "source": [
    "4500*6"
   ]
  },
  {
   "cell_type": "markdown",
   "metadata": {},
   "source": [
    " 4500*6"
   ]
  },
  {
   "cell_type": "code",
   "execution_count": null,
   "metadata": {},
   "outputs": [],
   "source": [
    "427000+145000"
   ]
  },
  {
   "cell_type": "code",
   "execution_count": null,
   "metadata": {},
   "outputs": [],
   "source": [
    "99*999"
   ]
  },
  {
   "cell_type": "code",
   "execution_count": null,
   "metadata": {},
   "outputs": [],
   "source": []
  },
  {
   "cell_type": "code",
   "execution_count": null,
   "metadata": {},
   "outputs": [],
   "source": []
  },
  {
   "cell_type": "code",
   "execution_count": null,
   "metadata": {},
   "outputs": [],
   "source": []
  },
  {
   "cell_type": "code",
   "execution_count": null,
   "metadata": {},
   "outputs": [],
   "source": []
  }
 ],
 "metadata": {
  "kernelspec": {
   "display_name": "Python 3",
   "language": "python",
   "name": "python3"
  },
  "language_info": {
   "codemirror_mode": {
    "name": "ipython",
    "version": 3
   },
   "file_extension": ".py",
   "mimetype": "text/x-python",
   "name": "python",
   "nbconvert_exporter": "python",
   "pygments_lexer": "ipython3",
   "version": "3.7.0"
  }
 },
 "nbformat": 4,
 "nbformat_minor": 2
}
